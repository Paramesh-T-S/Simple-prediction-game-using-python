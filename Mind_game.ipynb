{
 "cells": [
  {
   "cell_type": "code",
   "execution_count": 1,
   "metadata": {},
   "outputs": [
    {
     "name": "stdout",
     "output_type": "stream",
     "text": [
      "Hey! Please guess a number between 1 and 100. I will try to guess what you have guessed. Press 'Y' to play 'N' to exity\n",
      "I guess 50!\n",
      "Is that correct? Write 'Y' for Yes or 'N' or Non\n",
      "Is the number greater or lesser than 50? Type G for greater and L for Lesser.g\n",
      "I guess 75!\n",
      "Is that correct? Write 'Y' for Yes or 'N' or Non\n",
      "Is the number greater or lesser than 75? Type G for greater and L for Lesser.l\n",
      "I guess 62!\n",
      "Is that correct? Write 'Y' for Yes or 'N' or Noy\n",
      "You Guessed 62 !\n",
      "Guessed it in  3 guesses!\n"
     ]
    }
   ],
   "source": [
    "class Mind_game:               #class file\n",
    "    def permission(self,prompt, yes_values={\"y\", \"yes\"}, no_values={\"n\", \"no\"}):   #ready to play function!\n",
    "        while True:\n",
    "            response = input(prompt).strip().lower()\n",
    "            if response in yes_values:\n",
    "                return True\n",
    "            elif response in no_values:\n",
    "                return False\n",
    "\n",
    "    def get_int(self,prompt, start=None, end=None):                \n",
    "        while True:\n",
    "            try:\n",
    "                value = int(input(prompt))\n",
    "                if (start is None or start <= value) and (end is None or value <= end):\n",
    "                    return Value\n",
    "            except ValueError:\n",
    "                pass\n",
    "\n",
    "    def get_one_of(self,prompt, values):         #to get input from the user \n",
    "        while True:\n",
    "            value = input(prompt).strip().lower()\n",
    "            if value in values:\n",
    "                return value\n",
    "\n",
    "    def main(self):         #Main function\n",
    "        if obj.permission(\"Hey! Please guess a number between 1 and 100. I will try to guess what you have guessed. Press 'Y' to play 'N' to exit\"):\n",
    "            start, end = 1, 100\n",
    "            got_it = False\n",
    "            for i in range(1, 8):\n",
    "                mid = (start + end) // 2\n",
    "                print(\"I guess {}!\".format(mid))\n",
    "                temp = obj.get_one_of(\"Is that correct? Write 'Y' for Yes or 'N' or No\", {\"y\", \"n\"})            \n",
    "                if temp == \"y\":\n",
    "                    got_it = True\n",
    "                    print(\"You Guessed {} !\".format(mid))\n",
    "                    break\n",
    "    \n",
    "                elif temp == \"n\":\n",
    "                    temp1 = obj.get_one_of(\"Is the number greater or lesser than {}? Type G for greater and L for Lesser.\".format(mid), {\"g\", \"l\"})  \n",
    "                    if temp1 == \"g\":\n",
    "                        start = mid + 1                    \n",
    "                    else: # temp1 == \"l\":\n",
    "                        end = mid - 1\n",
    "                    if start > end:\n",
    "                        break\n",
    "        \n",
    "            if got_it:\n",
    "                print(\"Guessed it in  {} guesses!\".format(i))\n",
    "            else:\n",
    "                print(\"Sry Try again\")\n",
    "        else:\n",
    "            print(\"Bye!\")\n",
    "\n",
    "if __name__==\"__main__\":                 #to run main function\n",
    "    obj=Mind_game()  \n",
    "    obj.main()\n",
    "     "
   ]
  },
  {
   "cell_type": "code",
   "execution_count": null,
   "metadata": {},
   "outputs": [],
   "source": []
  }
 ],
 "metadata": {
  "kernelspec": {
   "display_name": "Python 3",
   "language": "python",
   "name": "python3"
  },
  "language_info": {
   "codemirror_mode": {
    "name": "ipython",
    "version": 3
   },
   "file_extension": ".py",
   "mimetype": "text/x-python",
   "name": "python",
   "nbconvert_exporter": "python",
   "pygments_lexer": "ipython3",
   "version": "3.7.0"
  }
 },
 "nbformat": 4,
 "nbformat_minor": 2
}
